{
 "cells": [
  {
   "cell_type": "markdown",
   "id": "c2083deb-6b39-4f69-ad54-5f9efac74fa9",
   "metadata": {},
   "source": [
    "# Peer-graded Assignment: Capstone Project - The Battle of Neighborhoods (Week 1)\n"
   ]
  },
  {
   "cell_type": "markdown",
   "id": "0adeb612-faa7-4c11-bd66-93dffa4fe91c",
   "metadata": {},
   "source": [
    "# Introduction:\n",
    "\n",
    "New York City is not only the most populous city in the United States but also one of the world’s largest mega cities with an estimated 2020 population of approximately 8.25 million spread over about 302.6 square miles including 5 boroughs. It is described as the cultural, financial and media capital of the world. It has population from all around the world and exerts significant influence on commerce, entertainment, research, technology, education, politics, art, tourism, sports etc.\n",
    "The pandemic beginning in March 2020 shut down most of the world including New York City. During this time, it has become very evident that some form of exercise is very useful for people not able to go out of the house. People took to doing yoga watching youtube videos to stay healthy, unable to get to their regular yoga studio. Yoga has become an important part of people’s lifestyle during this pandemic to stay healthy or even to recover from illnesses.\n",
    "Given these circumstances, our client would like to open a Yoga studio to teach face to face now that the city is opening back up again. \n",
    "So the basic question that we would like to answer is the best location for our client to open the Yoga studio. Client would like to stay in Manhattan where people are coming back again and offices are also opening up and demand would likely be high.\n",
    "The main criteria would be to find a location with easy access to subway, parking. Location also needs to be close to office buildings so people can step out during lunch hours for their lessons or their way to and from work. So the question that this final project would like answer is where should our client open their Yoga studio in Manhattan? Main criteria is the location so its close to transportation as well as office buildings and other entertainment avenues which provide more foot traffic."
   ]
  },
  {
   "cell_type": "markdown",
   "id": "9cb4fafc-c831-402f-bd79-b61009cc3018",
   "metadata": {},
   "source": [
    "# Data:\n",
    "\n",
    "The data that will be used to order answer the business questions, is data on New York City neighborhoods, boroughs to include boundaries, latitude, longitude, restaurants, and other yoga studios. From the main data, the borough of Manhattan will be main focus since client wants to stay in Manhattan.\n",
    "New York City data containing the neighborhoods and boroughs, latitudes, and longitudes will be obtained from the data source: https://cocl.us/new_york_dataset\n",
    "All data related to locations and other entertainment venues and/or other office complexes etc will be obtained via the FourSquare API utilized via the Request library in Python."
   ]
  },
  {
   "cell_type": "markdown",
   "id": "f83d9971-dacf-489c-8d69-247987356457",
   "metadata": {},
   "source": [
    "# Methodology:\n",
    "\n",
    "• Data will be collected from https://cocl.us/new_york_dataset and cleaned and processed into a Dataframe. Only Manhattan data will be used for the purpose answering the main questions.\n",
    "• FourSquare app will be utilized via the Request library in Python to locate all venues and then filtered by optimum location by entertainment venues and added to the Dataframe.\n",
    "• Data will be sorted based on rankings.\n",
    "• We will explore the data using the data and ultimately visually assess the data using Python libraries."
   ]
  },
  {
   "cell_type": "markdown",
   "id": "798104ac-effa-492f-a4bb-0b1546204fdb",
   "metadata": {},
   "source": [
    "# Business Problem:\n",
    "\n",
    "As part of the project, we will try to answer the following questions posed by our client:\n",
    "1.\tWhere in Manhattan is most optimum location for opening a Yoga studio which has the best chance of succeeding?\n",
    "2.\tWhat location would provide ample traffic in surrounding areas that would also help bring clients to the Yoga studio?"
   ]
  }
 ],
 "metadata": {
  "kernelspec": {
   "display_name": "Python",
   "language": "python",
   "name": "conda-env-python-py"
  },
  "language_info": {
   "codemirror_mode": {
    "name": "ipython",
    "version": 3
   },
   "file_extension": ".py",
   "mimetype": "text/x-python",
   "name": "python",
   "nbconvert_exporter": "python",
   "pygments_lexer": "ipython3",
   "version": "3.6.13"
  }
 },
 "nbformat": 4,
 "nbformat_minor": 5
}
